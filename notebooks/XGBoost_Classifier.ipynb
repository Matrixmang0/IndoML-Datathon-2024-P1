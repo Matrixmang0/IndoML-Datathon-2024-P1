{
 "cells": [
  {
   "cell_type": "code",
   "execution_count": 2,
   "metadata": {},
   "outputs": [],
   "source": [
    "import pandas as pd"
   ]
  },
  {
   "cell_type": "markdown",
   "metadata": {},
   "source": [
    "# Loading Data"
   ]
  },
  {
   "cell_type": "code",
   "execution_count": 3,
   "metadata": {},
   "outputs": [],
   "source": [
    "train_ftrs = pd.read_json('./input_data/attribute_train.data', lines=True)\n",
    "train_target = pd.read_json('./input_data/attribute_train.solution', lines=True)\n",
    "val_ftrs = pd.read_json('./input_data/attribute_val.data', lines=True)\n",
    "val_target = pd.read_json('./input_data/attribute_val.solution', lines=True)\n",
    "test_ftrs = pd.read_json('./input_data/attribute_test.data', lines=True)"
   ]
  },
  {
   "cell_type": "code",
   "execution_count": 31,
   "metadata": {},
   "outputs": [],
   "source": [
    "val_ftrs['details_Manufacturer'] = val_ftrs['details_Manufacturer'].fillna('unknown')\n",
    "test_ftrs['details_Manufacturer'] = test_ftrs['details_Manufacturer'].fillna('unknown')"
   ]
  },
  {
   "cell_type": "markdown",
   "metadata": {},
   "source": [
    "## Combining all these three information into a single sentence"
   ]
  },
  {
   "cell_type": "code",
   "execution_count": 32,
   "metadata": {},
   "outputs": [],
   "source": [
    "def combine_infos(row):\n",
    "    text = 'The title of the product is ' + row['title'] + '. This product was bought at the store ' + row['store'] + '. The manufacturer of this product is ' + row['details_Manufacturer'] + '.'\n",
    "    return text"
   ]
  },
  {
   "cell_type": "code",
   "execution_count": 33,
   "metadata": {},
   "outputs": [],
   "source": [
    "train_prprcsd = pd.DataFrame()\n",
    "\n",
    "train_prprcsd['Description'] = train_ftrs.apply(combine_infos, axis=1)"
   ]
  },
  {
   "cell_type": "code",
   "execution_count": 34,
   "metadata": {},
   "outputs": [
    {
     "data": {
      "text/html": [
       "<div>\n",
       "<style scoped>\n",
       "    .dataframe tbody tr th:only-of-type {\n",
       "        vertical-align: middle;\n",
       "    }\n",
       "\n",
       "    .dataframe tbody tr th {\n",
       "        vertical-align: top;\n",
       "    }\n",
       "\n",
       "    .dataframe thead th {\n",
       "        text-align: right;\n",
       "    }\n",
       "</style>\n",
       "<table border=\"1\" class=\"dataframe\">\n",
       "  <thead>\n",
       "    <tr style=\"text-align: right;\">\n",
       "      <th></th>\n",
       "      <th>Description</th>\n",
       "    </tr>\n",
       "  </thead>\n",
       "  <tbody>\n",
       "    <tr>\n",
       "      <th>0</th>\n",
       "      <td>The title of the product is Enclume Angled Pot...</td>\n",
       "    </tr>\n",
       "    <tr>\n",
       "      <th>1</th>\n",
       "      <td>The title of the product is Schutt Vengeance D...</td>\n",
       "    </tr>\n",
       "    <tr>\n",
       "      <th>2</th>\n",
       "      <td>The title of the product is Easton 2014 MAKO S...</td>\n",
       "    </tr>\n",
       "    <tr>\n",
       "      <th>3</th>\n",
       "      <td>The title of the product is Bilstein B46-0929 ...</td>\n",
       "    </tr>\n",
       "    <tr>\n",
       "      <th>4</th>\n",
       "      <td>The title of the product is Apple Red Cardstoc...</td>\n",
       "    </tr>\n",
       "    <tr>\n",
       "      <th>...</th>\n",
       "      <td>...</td>\n",
       "    </tr>\n",
       "    <tr>\n",
       "      <th>443494</th>\n",
       "      <td>The title of the product is Sony DCR-HC32 Mini...</td>\n",
       "    </tr>\n",
       "    <tr>\n",
       "      <th>443495</th>\n",
       "      <td>The title of the product is Monster Truck Park...</td>\n",
       "    </tr>\n",
       "    <tr>\n",
       "      <th>443496</th>\n",
       "      <td>The title of the product is 3dRose Pyrenees Do...</td>\n",
       "    </tr>\n",
       "    <tr>\n",
       "      <th>443497</th>\n",
       "      <td>The title of the product is adidas F50 Lesto S...</td>\n",
       "    </tr>\n",
       "    <tr>\n",
       "      <th>443498</th>\n",
       "      <td>The title of the product is Kingston Digital S...</td>\n",
       "    </tr>\n",
       "  </tbody>\n",
       "</table>\n",
       "<p>443499 rows × 1 columns</p>\n",
       "</div>"
      ],
      "text/plain": [
       "                                              Description\n",
       "0       The title of the product is Enclume Angled Pot...\n",
       "1       The title of the product is Schutt Vengeance D...\n",
       "2       The title of the product is Easton 2014 MAKO S...\n",
       "3       The title of the product is Bilstein B46-0929 ...\n",
       "4       The title of the product is Apple Red Cardstoc...\n",
       "...                                                   ...\n",
       "443494  The title of the product is Sony DCR-HC32 Mini...\n",
       "443495  The title of the product is Monster Truck Park...\n",
       "443496  The title of the product is 3dRose Pyrenees Do...\n",
       "443497  The title of the product is adidas F50 Lesto S...\n",
       "443498  The title of the product is Kingston Digital S...\n",
       "\n",
       "[443499 rows x 1 columns]"
      ]
     },
     "execution_count": 34,
     "metadata": {},
     "output_type": "execute_result"
    }
   ],
   "source": [
    "train_prprcsd"
   ]
  },
  {
   "cell_type": "markdown",
   "metadata": {},
   "source": [
    "### Validation set"
   ]
  },
  {
   "cell_type": "code",
   "execution_count": 35,
   "metadata": {},
   "outputs": [],
   "source": [
    "val_prprcsd = pd.DataFrame()\n",
    "\n",
    "val_prprcsd['Description'] = val_ftrs.apply(combine_infos, axis=1)"
   ]
  },
  {
   "cell_type": "code",
   "execution_count": 36,
   "metadata": {},
   "outputs": [
    {
     "data": {
      "text/html": [
       "<div>\n",
       "<style scoped>\n",
       "    .dataframe tbody tr th:only-of-type {\n",
       "        vertical-align: middle;\n",
       "    }\n",
       "\n",
       "    .dataframe tbody tr th {\n",
       "        vertical-align: top;\n",
       "    }\n",
       "\n",
       "    .dataframe thead th {\n",
       "        text-align: right;\n",
       "    }\n",
       "</style>\n",
       "<table border=\"1\" class=\"dataframe\">\n",
       "  <thead>\n",
       "    <tr style=\"text-align: right;\">\n",
       "      <th></th>\n",
       "      <th>Description</th>\n",
       "    </tr>\n",
       "  </thead>\n",
       "  <tbody>\n",
       "    <tr>\n",
       "      <th>0</th>\n",
       "      <td>The title of the product is Pendleton, Eco-Wis...</td>\n",
       "    </tr>\n",
       "    <tr>\n",
       "      <th>1</th>\n",
       "      <td>The title of the product is JP London MD3A049 ...</td>\n",
       "    </tr>\n",
       "    <tr>\n",
       "      <th>2</th>\n",
       "      <td>The title of the product is Lawn Fawn LF2938 F...</td>\n",
       "    </tr>\n",
       "    <tr>\n",
       "      <th>3</th>\n",
       "      <td>The title of the product is ANCHEER Foldable E...</td>\n",
       "    </tr>\n",
       "    <tr>\n",
       "      <th>4</th>\n",
       "      <td>The title of the product is Schecter Jeff Loom...</td>\n",
       "    </tr>\n",
       "    <tr>\n",
       "      <th>...</th>\n",
       "      <td>...</td>\n",
       "    </tr>\n",
       "    <tr>\n",
       "      <th>95030</th>\n",
       "      <td>The title of the product is Dodge Ram Rebel Bl...</td>\n",
       "    </tr>\n",
       "    <tr>\n",
       "      <th>95031</th>\n",
       "      <td>The title of the product is AM Autoparts Door ...</td>\n",
       "    </tr>\n",
       "    <tr>\n",
       "      <th>95032</th>\n",
       "      <td>The title of the product is Manduka eQua Plus ...</td>\n",
       "    </tr>\n",
       "    <tr>\n",
       "      <th>95033</th>\n",
       "      <td>The title of the product is Elmer's Products E...</td>\n",
       "    </tr>\n",
       "    <tr>\n",
       "      <th>95034</th>\n",
       "      <td>The title of the product is Kate and Laurel Me...</td>\n",
       "    </tr>\n",
       "  </tbody>\n",
       "</table>\n",
       "<p>95035 rows × 1 columns</p>\n",
       "</div>"
      ],
      "text/plain": [
       "                                             Description\n",
       "0      The title of the product is Pendleton, Eco-Wis...\n",
       "1      The title of the product is JP London MD3A049 ...\n",
       "2      The title of the product is Lawn Fawn LF2938 F...\n",
       "3      The title of the product is ANCHEER Foldable E...\n",
       "4      The title of the product is Schecter Jeff Loom...\n",
       "...                                                  ...\n",
       "95030  The title of the product is Dodge Ram Rebel Bl...\n",
       "95031  The title of the product is AM Autoparts Door ...\n",
       "95032  The title of the product is Manduka eQua Plus ...\n",
       "95033  The title of the product is Elmer's Products E...\n",
       "95034  The title of the product is Kate and Laurel Me...\n",
       "\n",
       "[95035 rows x 1 columns]"
      ]
     },
     "execution_count": 36,
     "metadata": {},
     "output_type": "execute_result"
    }
   ],
   "source": [
    "val_prprcsd"
   ]
  },
  {
   "cell_type": "markdown",
   "metadata": {},
   "source": [
    "### Test set"
   ]
  },
  {
   "cell_type": "code",
   "execution_count": 37,
   "metadata": {},
   "outputs": [],
   "source": [
    "test_prprcsd = pd.DataFrame()\n",
    "\n",
    "test_prprcsd['Description'] = test_ftrs.apply(combine_infos, axis=1)"
   ]
  },
  {
   "cell_type": "code",
   "execution_count": 38,
   "metadata": {},
   "outputs": [
    {
     "data": {
      "text/html": [
       "<div>\n",
       "<style scoped>\n",
       "    .dataframe tbody tr th:only-of-type {\n",
       "        vertical-align: middle;\n",
       "    }\n",
       "\n",
       "    .dataframe tbody tr th {\n",
       "        vertical-align: top;\n",
       "    }\n",
       "\n",
       "    .dataframe thead th {\n",
       "        text-align: right;\n",
       "    }\n",
       "</style>\n",
       "<table border=\"1\" class=\"dataframe\">\n",
       "  <thead>\n",
       "    <tr style=\"text-align: right;\">\n",
       "      <th></th>\n",
       "      <th>Description</th>\n",
       "    </tr>\n",
       "  </thead>\n",
       "  <tbody>\n",
       "    <tr>\n",
       "      <th>0</th>\n",
       "      <td>The title of the product is CURT 58180 Trailer...</td>\n",
       "    </tr>\n",
       "    <tr>\n",
       "      <th>1</th>\n",
       "      <td>The title of the product is CafePress Andrew J...</td>\n",
       "    </tr>\n",
       "    <tr>\n",
       "      <th>2</th>\n",
       "      <td>The title of the product is Garage-Pro Driver ...</td>\n",
       "    </tr>\n",
       "    <tr>\n",
       "      <th>3</th>\n",
       "      <td>The title of the product is Husky Liners Front...</td>\n",
       "    </tr>\n",
       "    <tr>\n",
       "      <th>4</th>\n",
       "      <td>The title of the product is Nearly Natural 130...</td>\n",
       "    </tr>\n",
       "    <tr>\n",
       "      <th>...</th>\n",
       "      <td>...</td>\n",
       "    </tr>\n",
       "    <tr>\n",
       "      <th>95031</th>\n",
       "      <td>The title of the product is Discraft Avenger S...</td>\n",
       "    </tr>\n",
       "    <tr>\n",
       "      <th>95032</th>\n",
       "      <td>The title of the product is ProLume Prolumeme ...</td>\n",
       "    </tr>\n",
       "    <tr>\n",
       "      <th>95033</th>\n",
       "      <td>The title of the product is Nearly Natural 484...</td>\n",
       "    </tr>\n",
       "    <tr>\n",
       "      <th>95034</th>\n",
       "      <td>The title of the product is Gorilla Automotive...</td>\n",
       "    </tr>\n",
       "    <tr>\n",
       "      <th>95035</th>\n",
       "      <td>The title of the product is LUXPaper A2 Contou...</td>\n",
       "    </tr>\n",
       "  </tbody>\n",
       "</table>\n",
       "<p>95036 rows × 1 columns</p>\n",
       "</div>"
      ],
      "text/plain": [
       "                                             Description\n",
       "0      The title of the product is CURT 58180 Trailer...\n",
       "1      The title of the product is CafePress Andrew J...\n",
       "2      The title of the product is Garage-Pro Driver ...\n",
       "3      The title of the product is Husky Liners Front...\n",
       "4      The title of the product is Nearly Natural 130...\n",
       "...                                                  ...\n",
       "95031  The title of the product is Discraft Avenger S...\n",
       "95032  The title of the product is ProLume Prolumeme ...\n",
       "95033  The title of the product is Nearly Natural 484...\n",
       "95034  The title of the product is Gorilla Automotive...\n",
       "95035  The title of the product is LUXPaper A2 Contou...\n",
       "\n",
       "[95036 rows x 1 columns]"
      ]
     },
     "execution_count": 38,
     "metadata": {},
     "output_type": "execute_result"
    }
   ],
   "source": [
    "test_prprcsd"
   ]
  },
  {
   "cell_type": "markdown",
   "metadata": {},
   "source": [
    "## Let's create embeddings for these texts"
   ]
  },
  {
   "cell_type": "code",
   "execution_count": 39,
   "metadata": {},
   "outputs": [],
   "source": [
    "from transformers import AutoModel\n",
    "from tqdm import tqdm\n",
    "import torch\n",
    "\n",
    "device = torch.device(\"cuda\" if torch.cuda.is_available() else \"cpu\")\n",
    "\n",
    "model = AutoModel.from_pretrained('jinaai/jina-embeddings-v2-base-en', trust_remote_code=True).to(device)\n",
    "\n",
    "train_embeddings = []\n",
    "\n",
    "for i in tqdm(range(0, len(train_prprcsd['Description'])), desc=\"Encoding descriptions\"):\n",
    "\n",
    "    with torch.no_grad():\n",
    "        embedding = model.encode(train_prprcsd['Description'][i])\n",
    "\n",
    "    train_embeddings.append(embedding)\n",
    "\n",
    "    del embedding"
   ]
  },
  {
   "cell_type": "code",
   "execution_count": 40,
   "metadata": {},
   "outputs": [],
   "source": [
    "import pickle\n",
    "\n",
    "with open('train_embeddings.pkl', 'wb') as f:\n",
    "    pickle.dump(train_embeddings, f)"
   ]
  },
  {
   "cell_type": "markdown",
   "metadata": {},
   "source": [
    "Each output embedding is of dimension 768"
   ]
  },
  {
   "cell_type": "code",
   "execution_count": 41,
   "metadata": {},
   "outputs": [],
   "source": [
    "with open('train_embeddings.pkl', 'rb') as f:\n",
    "    train_embeddings = pickle.load(f)"
   ]
  },
  {
   "cell_type": "code",
   "execution_count": 42,
   "metadata": {},
   "outputs": [
    {
     "data": {
      "text/plain": [
       "443499"
      ]
     },
     "execution_count": 42,
     "metadata": {},
     "output_type": "execute_result"
    }
   ],
   "source": [
    "len(train_embeddings)"
   ]
  },
  {
   "cell_type": "markdown",
   "metadata": {},
   "source": [
    "### For validation and test sets"
   ]
  },
  {
   "cell_type": "code",
   "execution_count": 43,
   "metadata": {},
   "outputs": [],
   "source": [
    "val_embeddings = []\n",
    "\n",
    "for i in tqdm(range(0, len(val_prprcsd['Description'])), desc=\"Encoding descriptions\"):\n",
    "\n",
    "    with torch.no_grad():\n",
    "        embedding = model.encode(val_prprcsd['Description'][i])\n",
    "\n",
    "    val_embeddings.append(embedding)\n",
    "\n",
    "    del embedding"
   ]
  },
  {
   "cell_type": "code",
   "execution_count": 44,
   "metadata": {},
   "outputs": [],
   "source": [
    "with open('val_embeddings.pkl', 'wb') as f:\n",
    "    pickle.dump(val_embeddings, f)"
   ]
  },
  {
   "cell_type": "code",
   "execution_count": 45,
   "metadata": {},
   "outputs": [],
   "source": [
    "test_embeddings = []\n",
    "\n",
    "for i in tqdm(range(0, len(test_prprcsd['Description'])), desc=\"Encoding descriptions\"):\n",
    "\n",
    "    with torch.no_grad():\n",
    "        embedding = model.encode(test_prprcsd['Description'][i])\n",
    "\n",
    "    test_embeddings.append(embedding)\n",
    "\n",
    "    del embedding"
   ]
  },
  {
   "cell_type": "code",
   "execution_count": 46,
   "metadata": {},
   "outputs": [],
   "source": [
    "with open('test_embeddings.pkl', 'wb') as f:\n",
    "    pickle.dump(test_embeddings, f)"
   ]
  },
  {
   "cell_type": "code",
   "execution_count": 47,
   "metadata": {},
   "outputs": [],
   "source": [
    "with open('val_embeddings.pkl', 'rb') as f:\n",
    "    val_embeddings = pickle.load(f)"
   ]
  },
  {
   "cell_type": "code",
   "execution_count": 48,
   "metadata": {},
   "outputs": [],
   "source": [
    "with open('test_embeddings.pkl', 'rb') as f:\n",
    "    test_embeddings = pickle.load(f)"
   ]
  },
  {
   "cell_type": "markdown",
   "metadata": {},
   "source": [
    "### Label Encoding"
   ]
  },
  {
   "cell_type": "code",
   "execution_count": 90,
   "metadata": {},
   "outputs": [
    {
     "data": {
      "text/plain": [
       "5066"
      ]
     },
     "execution_count": 90,
     "metadata": {},
     "output_type": "execute_result"
    }
   ],
   "source": [
    "len(train_target['details_Brand'].value_counts())"
   ]
  },
  {
   "cell_type": "code",
   "execution_count": 85,
   "metadata": {},
   "outputs": [
    {
     "data": {
      "text/plain": [
       "27"
      ]
     },
     "execution_count": 85,
     "metadata": {},
     "output_type": "execute_result"
    }
   ],
   "source": [
    "len(train_target['L0_category'].value_counts())"
   ]
  },
  {
   "cell_type": "code",
   "execution_count": 86,
   "metadata": {},
   "outputs": [
    {
     "data": {
      "text/plain": [
       "163"
      ]
     },
     "execution_count": 86,
     "metadata": {},
     "output_type": "execute_result"
    }
   ],
   "source": [
    "len(train_target['L1_category'].value_counts())"
   ]
  },
  {
   "cell_type": "code",
   "execution_count": 91,
   "metadata": {},
   "outputs": [
    {
     "data": {
      "text/plain": [
       "L1_category\n",
       "Replacement Parts                            78780\n",
       "Home Dcor Products                           23083\n",
       "Computers & Accessories                      21964\n",
       "Kitchen & Dining                             21700\n",
       "Office & School Supplies                     20941\n",
       "                                             ...  \n",
       "Meat & Seafood                                  22\n",
       "Test, Measure & Inspect                         22\n",
       "eBook Readers & Accessories                     22\n",
       "Mobility Aids & Equipment                       22\n",
       "Headlight Assemblies, Parts & Accessories       22\n",
       "Name: count, Length: 163, dtype: int64"
      ]
     },
     "execution_count": 91,
     "metadata": {},
     "output_type": "execute_result"
    }
   ],
   "source": [
    "train_target['L1_category'].value_counts()"
   ]
  },
  {
   "cell_type": "code",
   "execution_count": 94,
   "metadata": {},
   "outputs": [
    {
     "data": {
      "text/plain": [
       "L0_category\n",
       "Electronics    21964\n",
       "Name: count, dtype: int64"
      ]
     },
     "execution_count": 94,
     "metadata": {},
     "output_type": "execute_result"
    }
   ],
   "source": [
    "train_target['L0_category'][train_target['L1_category'] == 'Computers & Accessories'].value_counts()"
   ]
  },
  {
   "cell_type": "code",
   "execution_count": 87,
   "metadata": {},
   "outputs": [
    {
     "data": {
      "text/plain": [
       "612"
      ]
     },
     "execution_count": 87,
     "metadata": {},
     "output_type": "execute_result"
    }
   ],
   "source": [
    "len(train_target['L2_category'].value_counts())"
   ]
  },
  {
   "cell_type": "code",
   "execution_count": 88,
   "metadata": {},
   "outputs": [
    {
     "data": {
      "text/plain": [
       "1252"
      ]
     },
     "execution_count": 88,
     "metadata": {},
     "output_type": "execute_result"
    }
   ],
   "source": [
    "len(train_target['L3_category'].value_counts())"
   ]
  },
  {
   "cell_type": "code",
   "execution_count": 89,
   "metadata": {},
   "outputs": [
    {
     "data": {
      "text/plain": [
       "962"
      ]
     },
     "execution_count": 89,
     "metadata": {},
     "output_type": "execute_result"
    }
   ],
   "source": [
    "len(train_target['L4_category'].value_counts())"
   ]
  },
  {
   "cell_type": "code",
   "execution_count": 49,
   "metadata": {},
   "outputs": [],
   "source": [
    "from sklearn.preprocessing import LabelEncoder\n",
    "\n",
    "le_db = LabelEncoder()\n",
    "le_L0 = LabelEncoder()\n",
    "le_L1 = LabelEncoder()\n",
    "le_L2 = LabelEncoder()\n",
    "le_L3 = LabelEncoder()\n",
    "le_L4 = LabelEncoder()"
   ]
  },
  {
   "cell_type": "code",
   "execution_count": 50,
   "metadata": {},
   "outputs": [],
   "source": [
    "trtgt_db = le_db.fit_transform(train_target['details_Brand'])\n",
    "trtgt_L0 = le_L0.fit_transform(train_target['L0_category'])\n",
    "trtgt_L1 = le_L1.fit_transform(train_target['L1_category'])\n",
    "trtgt_L2 = le_L2.fit_transform(train_target['L2_category'])\n",
    "trtgt_L3 = le_L3.fit_transform(train_target['L3_category'])\n",
    "trtgt_L4 = le_L4.fit_transform(train_target['L4_category'])"
   ]
  },
  {
   "cell_type": "markdown",
   "metadata": {},
   "source": [
    "## Model Training"
   ]
  },
  {
   "cell_type": "code",
   "execution_count": 51,
   "metadata": {},
   "outputs": [],
   "source": [
    "from xgboost import XGBClassifier"
   ]
  },
  {
   "cell_type": "code",
   "execution_count": 52,
   "metadata": {},
   "outputs": [],
   "source": [
    "xgb_db = XGBClassifier(tree_method='hist', device='cuda')\n",
    "xgb_db.fit(train_embeddings, trtgt_db)"
   ]
  },
  {
   "cell_type": "code",
   "execution_count": 53,
   "metadata": {},
   "outputs": [],
   "source": [
    "xgb_db.save_model('./XGB_models/xgb_detailsBrand.bin')"
   ]
  },
  {
   "cell_type": "code",
   "execution_count": 54,
   "metadata": {},
   "outputs": [],
   "source": [
    "xgb_db = XGBClassifier()\n",
    "xgb_db.load_model('./XGB_models/xgb_detailsBrand.bin')"
   ]
  },
  {
   "cell_type": "code",
   "execution_count": 55,
   "metadata": {},
   "outputs": [],
   "source": [
    "xgb_L0 = XGBClassifier(tree_method='hist', device='cuda')\n",
    "xgb_L0.fit(train_embeddings, trtgt_L0)"
   ]
  },
  {
   "cell_type": "code",
   "execution_count": 56,
   "metadata": {},
   "outputs": [],
   "source": [
    "xgb_L0.save_model('./XGB_models/xgb_L0category.bin')"
   ]
  },
  {
   "cell_type": "code",
   "execution_count": 57,
   "metadata": {},
   "outputs": [],
   "source": [
    "xgb_L0 = XGBClassifier()\n",
    "xgb_L0.load_model('./XGB_models/xgb_L0category.bin')"
   ]
  },
  {
   "cell_type": "code",
   "execution_count": 58,
   "metadata": {},
   "outputs": [],
   "source": [
    "xgb_L1 = XGBClassifier(tree_method='hist', device='cuda')\n",
    "xgb_L1.fit(train_embeddings, trtgt_L1)"
   ]
  },
  {
   "cell_type": "code",
   "execution_count": 59,
   "metadata": {},
   "outputs": [],
   "source": [
    "xgb_L1.save_model('./XGB_models/xgb_L1category.bin')"
   ]
  },
  {
   "cell_type": "code",
   "execution_count": 60,
   "metadata": {},
   "outputs": [],
   "source": [
    "xgb_L1 = XGBClassifier()\n",
    "xgb_L1.load_model('./XGB_models/xgb_L1category.bin')"
   ]
  },
  {
   "cell_type": "code",
   "execution_count": 61,
   "metadata": {},
   "outputs": [],
   "source": [
    "xgb_L2 = XGBClassifier(tree_method='hist', device='cuda')\n",
    "xgb_L2.fit(train_embeddings, trtgt_L2)"
   ]
  },
  {
   "cell_type": "code",
   "execution_count": 62,
   "metadata": {},
   "outputs": [],
   "source": [
    "xgb_L2.save_model('./XGB_models/xgb_L2category.bin')"
   ]
  },
  {
   "cell_type": "code",
   "execution_count": 63,
   "metadata": {},
   "outputs": [],
   "source": [
    "xgb_L2 = XGBClassifier()\n",
    "xgb_L2.load_model('./XGB_models/xgb_L2category.bin')"
   ]
  },
  {
   "cell_type": "code",
   "execution_count": 64,
   "metadata": {},
   "outputs": [],
   "source": [
    "xgb_L3 = XGBClassifier(tree_method='hist', device='cuda')\n",
    "xgb_L3.fit(train_embeddings, trtgt_L3)"
   ]
  },
  {
   "cell_type": "code",
   "execution_count": 65,
   "metadata": {},
   "outputs": [],
   "source": [
    "xgb_L3.save_model('./XGB_models/xgb_L3category.bin')"
   ]
  },
  {
   "cell_type": "code",
   "execution_count": 66,
   "metadata": {},
   "outputs": [],
   "source": [
    "xgb_L3 = XGBClassifier()\n",
    "xgb_L3.load_model('./XGB_models/xgb_L3category.bin')"
   ]
  },
  {
   "cell_type": "code",
   "execution_count": 67,
   "metadata": {},
   "outputs": [],
   "source": [
    "xgb_L4 = XGBClassifier(tree_method='hist', device='cuda')\n",
    "xgb_L4.fit(train_embeddings, trtgt_L4)"
   ]
  },
  {
   "cell_type": "code",
   "execution_count": 68,
   "metadata": {},
   "outputs": [],
   "source": [
    "xgb_L4.save_model('./XGB_models/xgb_L4category.bin')"
   ]
  },
  {
   "cell_type": "code",
   "execution_count": 69,
   "metadata": {},
   "outputs": [],
   "source": [
    "xgb_L4 = XGBClassifier()\n",
    "xgb_L4.load_model('./XGB_models/xgb_L4category.bin')"
   ]
  },
  {
   "cell_type": "markdown",
   "metadata": {},
   "source": [
    "## Prediction"
   ]
  },
  {
   "cell_type": "code",
   "execution_count": 70,
   "metadata": {},
   "outputs": [],
   "source": [
    "enc_pred_db = xgb_db.predict(test_embeddings)\n",
    "enc_pred_L0 = xgb_L0.predict(test_embeddings)\n",
    "enc_pred_L1 = xgb_L1.predict(test_embeddings)\n",
    "enc_pred_L2 = xgb_L2.predict(test_embeddings)\n",
    "enc_pred_L3 = xgb_L3.predict(test_embeddings)\n",
    "enc_pred_L4 = xgb_L4.predict(test_embeddings)"
   ]
  },
  {
   "cell_type": "code",
   "execution_count": 71,
   "metadata": {},
   "outputs": [
    {
     "data": {
      "text/plain": [
       "array(['Covercraft', 'CafePress', 'AUTOANDART', ..., 'PHILIPS',\n",
       "       'Callahan BRAKE PARTS', 'Garage-Pro'], dtype=object)"
      ]
     },
     "execution_count": 71,
     "metadata": {},
     "output_type": "execute_result"
    }
   ],
   "source": [
    "le_db.inverse_transform(enc_pred_db)"
   ]
  },
  {
   "cell_type": "code",
   "execution_count": 72,
   "metadata": {},
   "outputs": [
    {
     "data": {
      "text/plain": [
       "array(['Automotive', 'Automotive', 'Automotive', ..., 'Home & Kitchen',\n",
       "       'Automotive', 'Office Products'], dtype=object)"
      ]
     },
     "execution_count": 72,
     "metadata": {},
     "output_type": "execute_result"
    }
   ],
   "source": [
    "le_L0.inverse_transform(enc_pred_L0)"
   ]
  },
  {
   "cell_type": "code",
   "execution_count": 73,
   "metadata": {},
   "outputs": [
    {
     "data": {
      "text/plain": [
       "array(['Exterior Accessories', 'Exterior Accessories',\n",
       "       'Lights & Lighting Accessories', ..., 'Home Dcor Products',\n",
       "       'Tires & Wheels', 'Office & School Supplies'], dtype=object)"
      ]
     },
     "execution_count": 73,
     "metadata": {},
     "output_type": "execute_result"
    }
   ],
   "source": [
    "le_L1.inverse_transform(enc_pred_L1)"
   ]
  },
  {
   "cell_type": "code",
   "execution_count": 74,
   "metadata": {},
   "outputs": [
    {
     "data": {
      "text/plain": [
       "array(['Towing Products & Winches', 'Bumper Stickers, Decals & Magnets',\n",
       "       'Body & Trim', ..., 'Artificial Plants & Flowers',\n",
       "       'Accessories & Parts', 'Envelopes, Mailers & Shipping Supplies'],\n",
       "      dtype=object)"
      ]
     },
     "execution_count": 74,
     "metadata": {},
     "output_type": "execute_result"
    }
   ],
   "source": [
    "le_L2.inverse_transform(enc_pred_L2)"
   ]
  },
  {
   "cell_type": "code",
   "execution_count": 75,
   "metadata": {},
   "outputs": [
    {
     "data": {
      "text/plain": [
       "array(['Decorative Accessories', 'Bumper Stickers', 'Body', ...,\n",
       "       'Dinnerware & Serveware', 'Air Filters & Accessories',\n",
       "       'Golf Clubs'], dtype=object)"
      ]
     },
     "execution_count": 75,
     "metadata": {},
     "output_type": "execute_result"
    }
   ],
   "source": [
    "le_L3.inverse_transform(enc_pred_L3)"
   ]
  },
  {
   "cell_type": "code",
   "execution_count": 76,
   "metadata": {},
   "outputs": [
    {
     "data": {
      "text/plain": [
       "array(['Batteries', 'Carburetors', 'Cookie Cutters', ..., 'Basic Collars',\n",
       "       'Cookie Cutters', 'Tail Light Assemblies'], dtype=object)"
      ]
     },
     "execution_count": 76,
     "metadata": {},
     "output_type": "execute_result"
    }
   ],
   "source": [
    "le_L4.inverse_transform(enc_pred_L4)"
   ]
  },
  {
   "cell_type": "markdown",
   "metadata": {},
   "source": [
    "## Preparing for submission"
   ]
  },
  {
   "cell_type": "code",
   "execution_count": 77,
   "metadata": {},
   "outputs": [],
   "source": [
    "submission_v1 = pd.DataFrame()"
   ]
  },
  {
   "cell_type": "code",
   "execution_count": 78,
   "metadata": {},
   "outputs": [],
   "source": [
    "submission_v1['indoml_id'] = test_ftrs['indoml_id']\n",
    "submission_v1['details_Brand'] = le_db.inverse_transform(enc_pred_db)\n",
    "submission_v1['L0_category'] = le_L0.inverse_transform(enc_pred_L0)\n",
    "submission_v1['L1_category'] = le_L1.inverse_transform(enc_pred_L1)\n",
    "submission_v1['L2_category'] = le_L2.inverse_transform(enc_pred_L2)\n",
    "submission_v1['L3_category'] = le_L3.inverse_transform(enc_pred_L3)\n",
    "submission_v1['L4_category'] = le_L4.inverse_transform(enc_pred_L4)"
   ]
  },
  {
   "cell_type": "code",
   "execution_count": 79,
   "metadata": {},
   "outputs": [],
   "source": [
    "submission_v1['details_Brand'] = test_ftrs['store']"
   ]
  },
  {
   "cell_type": "code",
   "execution_count": 80,
   "metadata": {},
   "outputs": [],
   "source": [
    "submission_v1.to_csv('./submissions/submission_v2.csv')"
   ]
  },
  {
   "cell_type": "code",
   "execution_count": 81,
   "metadata": {},
   "outputs": [],
   "source": [
    "submission_v1_dict = submission_v1.to_dict('records')"
   ]
  },
  {
   "cell_type": "code",
   "execution_count": 82,
   "metadata": {},
   "outputs": [],
   "source": [
    "import json\n",
    "\n",
    "with open('./submissions/attribute_test_XGBv1.predict', 'w') as f:\n",
    "    for record in submission_v1_dict:\n",
    "        f.write(json.dumps(record) + '\\n')"
   ]
  },
  {
   "cell_type": "code",
   "execution_count": 83,
   "metadata": {},
   "outputs": [],
   "source": [
    "import zipfile\n",
    "\n",
    "file = './submissions/attribute_test_XGBv1.predict'\n",
    "\n",
    "with zipfile.ZipFile('./submissions/submission_XGBv1.zip', 'w') as f:\n",
    "    f.write(file, arcname=file)"
   ]
  }
 ],
 "metadata": {
  "kernelspec": {
   "display_name": "venv",
   "language": "python",
   "name": "python3"
  },
  "language_info": {
   "codemirror_mode": {
    "name": "ipython",
    "version": 3
   },
   "file_extension": ".py",
   "mimetype": "text/x-python",
   "name": "python",
   "nbconvert_exporter": "python",
   "pygments_lexer": "ipython3",
   "version": "3.11.9"
  }
 },
 "nbformat": 4,
 "nbformat_minor": 2
}
